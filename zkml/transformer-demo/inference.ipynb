{
 "cells": [
  {
   "cell_type": "code",
   "execution_count": 3,
   "metadata": {},
   "outputs": [
    {
     "ename": "InvalidGraph",
     "evalue": "[ONNXRuntimeError] : 10 : INVALID_GRAPH : Load model from network.onnx failed:This is an invalid model. Type Error: Type 'tensor(int32)' of input parameter (/model/model.0/Sub_output_0) of operator (ConstantOfShape) in node (/model/model.0/ConstantOfShape) is invalid.",
     "output_type": "error",
     "traceback": [
      "\u001b[1;31m---------------------------------------------------------------------------\u001b[0m",
      "\u001b[1;31mInvalidGraph\u001b[0m                              Traceback (most recent call last)",
      "\u001b[1;32mc:\\Users\\sabri\\OneDrive\\Documents\\Projects\\Proof-of-Assets-Protocol\\zkml\\transformer-demo\\inference.ipynb Cell 1\u001b[0m line \u001b[0;36m4\n\u001b[0;32m      <a href='vscode-notebook-cell:/c%3A/Users/sabri/OneDrive/Documents/Projects/Proof-of-Assets-Protocol/zkml/transformer-demo/inference.ipynb#W0sZmlsZQ%3D%3D?line=0'>1</a>\u001b[0m \u001b[39mimport\u001b[39;00m \u001b[39monnxruntime\u001b[39;00m\n\u001b[0;32m      <a href='vscode-notebook-cell:/c%3A/Users/sabri/OneDrive/Documents/Projects/Proof-of-Assets-Protocol/zkml/transformer-demo/inference.ipynb#W0sZmlsZQ%3D%3D?line=1'>2</a>\u001b[0m \u001b[39mimport\u001b[39;00m \u001b[39mnumpy\u001b[39;00m \u001b[39mas\u001b[39;00m \u001b[39mnp\u001b[39;00m\n\u001b[1;32m----> <a href='vscode-notebook-cell:/c%3A/Users/sabri/OneDrive/Documents/Projects/Proof-of-Assets-Protocol/zkml/transformer-demo/inference.ipynb#W0sZmlsZQ%3D%3D?line=3'>4</a>\u001b[0m onnx_session \u001b[39m=\u001b[39m onnxruntime\u001b[39m.\u001b[39;49mInferenceSession(\u001b[39m\"\u001b[39;49m\u001b[39mnetwork.onnx\u001b[39;49m\u001b[39m\"\u001b[39;49m)\n\u001b[0;32m      <a href='vscode-notebook-cell:/c%3A/Users/sabri/OneDrive/Documents/Projects/Proof-of-Assets-Protocol/zkml/transformer-demo/inference.ipynb#W0sZmlsZQ%3D%3D?line=5'>6</a>\u001b[0m \u001b[39m# Prepare input data (adjust this based on your model's input requirements)\u001b[39;00m\n\u001b[0;32m      <a href='vscode-notebook-cell:/c%3A/Users/sabri/OneDrive/Documents/Projects/Proof-of-Assets-Protocol/zkml/transformer-demo/inference.ipynb#W0sZmlsZQ%3D%3D?line=6'>7</a>\u001b[0m \u001b[39m# input_data = np.array([1, 1, 1, 1, 1, 1], dtype=np.float32)\u001b[39;00m\n\u001b[0;32m      <a href='vscode-notebook-cell:/c%3A/Users/sabri/OneDrive/Documents/Projects/Proof-of-Assets-Protocol/zkml/transformer-demo/inference.ipynb#W0sZmlsZQ%3D%3D?line=7'>8</a>\u001b[0m \n\u001b[1;32m   (...)\u001b[0m\n\u001b[0;32m     <a href='vscode-notebook-cell:/c%3A/Users/sabri/OneDrive/Documents/Projects/Proof-of-Assets-Protocol/zkml/transformer-demo/inference.ipynb#W0sZmlsZQ%3D%3D?line=13'>14</a>\u001b[0m \u001b[39m# Post-process and interpret the results\u001b[39;00m\n\u001b[0;32m     <a href='vscode-notebook-cell:/c%3A/Users/sabri/OneDrive/Documents/Projects/Proof-of-Assets-Protocol/zkml/transformer-demo/inference.ipynb#W0sZmlsZQ%3D%3D?line=14'>15</a>\u001b[0m \u001b[39m# ...\u001b[39;00m\n",
      "File \u001b[1;32mc:\\Users\\sabri\\AppData\\Local\\Programs\\Python\\Python311\\Lib\\site-packages\\onnxruntime\\capi\\onnxruntime_inference_collection.py:419\u001b[0m, in \u001b[0;36mInferenceSession.__init__\u001b[1;34m(self, path_or_bytes, sess_options, providers, provider_options, **kwargs)\u001b[0m\n\u001b[0;32m    416\u001b[0m disabled_optimizers \u001b[39m=\u001b[39m kwargs[\u001b[39m\"\u001b[39m\u001b[39mdisabled_optimizers\u001b[39m\u001b[39m\"\u001b[39m] \u001b[39mif\u001b[39;00m \u001b[39m\"\u001b[39m\u001b[39mdisabled_optimizers\u001b[39m\u001b[39m\"\u001b[39m \u001b[39min\u001b[39;00m kwargs \u001b[39melse\u001b[39;00m \u001b[39mNone\u001b[39;00m\n\u001b[0;32m    418\u001b[0m \u001b[39mtry\u001b[39;00m:\n\u001b[1;32m--> 419\u001b[0m     \u001b[39mself\u001b[39;49m\u001b[39m.\u001b[39;49m_create_inference_session(providers, provider_options, disabled_optimizers)\n\u001b[0;32m    420\u001b[0m \u001b[39mexcept\u001b[39;00m (\u001b[39mValueError\u001b[39;00m, \u001b[39mRuntimeError\u001b[39;00m) \u001b[39mas\u001b[39;00m e:\n\u001b[0;32m    421\u001b[0m     \u001b[39mif\u001b[39;00m \u001b[39mself\u001b[39m\u001b[39m.\u001b[39m_enable_fallback:\n",
      "File \u001b[1;32mc:\\Users\\sabri\\AppData\\Local\\Programs\\Python\\Python311\\Lib\\site-packages\\onnxruntime\\capi\\onnxruntime_inference_collection.py:452\u001b[0m, in \u001b[0;36mInferenceSession._create_inference_session\u001b[1;34m(self, providers, provider_options, disabled_optimizers)\u001b[0m\n\u001b[0;32m    450\u001b[0m session_options \u001b[39m=\u001b[39m \u001b[39mself\u001b[39m\u001b[39m.\u001b[39m_sess_options \u001b[39mif\u001b[39;00m \u001b[39mself\u001b[39m\u001b[39m.\u001b[39m_sess_options \u001b[39melse\u001b[39;00m C\u001b[39m.\u001b[39mget_default_session_options()\n\u001b[0;32m    451\u001b[0m \u001b[39mif\u001b[39;00m \u001b[39mself\u001b[39m\u001b[39m.\u001b[39m_model_path:\n\u001b[1;32m--> 452\u001b[0m     sess \u001b[39m=\u001b[39m C\u001b[39m.\u001b[39;49mInferenceSession(session_options, \u001b[39mself\u001b[39;49m\u001b[39m.\u001b[39;49m_model_path, \u001b[39mTrue\u001b[39;49;00m, \u001b[39mself\u001b[39;49m\u001b[39m.\u001b[39;49m_read_config_from_model)\n\u001b[0;32m    453\u001b[0m \u001b[39melse\u001b[39;00m:\n\u001b[0;32m    454\u001b[0m     sess \u001b[39m=\u001b[39m C\u001b[39m.\u001b[39mInferenceSession(session_options, \u001b[39mself\u001b[39m\u001b[39m.\u001b[39m_model_bytes, \u001b[39mFalse\u001b[39;00m, \u001b[39mself\u001b[39m\u001b[39m.\u001b[39m_read_config_from_model)\n",
      "\u001b[1;31mInvalidGraph\u001b[0m: [ONNXRuntimeError] : 10 : INVALID_GRAPH : Load model from network.onnx failed:This is an invalid model. Type Error: Type 'tensor(int32)' of input parameter (/model/model.0/Sub_output_0) of operator (ConstantOfShape) in node (/model/model.0/ConstantOfShape) is invalid."
     ]
    }
   ],
   "source": [
    "import onnxruntime\n",
    "import numpy as np\n",
    "\n",
    "onnx_session = onnxruntime.InferenceSession(\"network.onnx\")\n",
    "\n",
    "# Prepare input data (adjust this based on your model's input requirements)\n",
    "# input_data = np.array([1, 1, 1, 1, 1, 1], dtype=np.float32)\n",
    "\n",
    "# # Run inference\n",
    "# output = onnx_session.run(None, {\"input\": input_data})  # Adjust \"input\" to match your model's input name\n",
    "\n",
    "# print(output)\n",
    "\n",
    "# Post-process and interpret the results\n",
    "# ...\n"
   ]
  }
 ],
 "metadata": {
  "kernelspec": {
   "display_name": "Python 3",
   "language": "python",
   "name": "python3"
  },
  "language_info": {
   "codemirror_mode": {
    "name": "ipython",
    "version": 3
   },
   "file_extension": ".py",
   "mimetype": "text/x-python",
   "name": "python",
   "nbconvert_exporter": "python",
   "pygments_lexer": "ipython3",
   "version": "3.11.6"
  }
 },
 "nbformat": 4,
 "nbformat_minor": 2
}
