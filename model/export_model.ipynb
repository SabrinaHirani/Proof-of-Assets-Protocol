{
 "cells": [
  {
   "cell_type": "code",
   "execution_count": null,
   "metadata": {},
   "outputs": [],
   "source": [
    "from transformers import AutoModel, AutoTokenizer\n",
    "\n",
    "repo_id = \"sabrinah/mobileBERT-PoA\"\n",
    "tokenizer = AutoTokenizer.from_pretrained(repo_id)\n",
    "model = AutoModel.from_pretrained(repo_id)\n"
   ]
  },
  {
   "cell_type": "code",
   "execution_count": null,
   "metadata": {},
   "outputs": [],
   "source": [
    "input_text = \"MPAC's updated value of your property is $2,250,000. Account information: Roll Number 33 22 456 789 01234 5678 AboutMyProperty™ Access Key UVW1 XYZ2 ABC3. Your property's location and description 456 SUNNYDALE AVE PLAN 789Z123 PT 1 LOT 15, Municipality SUNNYVILLE CITY, support English-Public.\"\n",
    "\n",
    "inputs = tokenizer(input_text, return_tensors=\"pt\")\n",
    "\n",
    "input_ids = inputs[\"input_ids\"]\n",
    "attention_mask = inputs[\"attention_mask\"]"
   ]
  },
  {
   "cell_type": "code",
   "execution_count": null,
   "metadata": {},
   "outputs": [],
   "source": [
    "import torch\n",
    "\n",
    "input_names = [\"input_ids\", \"attention_mask\"]\n",
    "output_names = [\"logits\"]\n",
    "\n",
    "onnx_model_path = \"network.onnx\"\n",
    "\n",
    "with torch.no_grad():\n",
    "    torch.onnx.export(\n",
    "        model=model,\n",
    "        args=(input_ids, attention_mask), \n",
    "        f='network.onnx',\n",
    "        verbose=True,\n",
    "        input_names=input_names,\n",
    "        output_names=output_names,\n",
    "        dynamic_axes={\n",
    "            \"input_ids\": {0: \"batch_size\"},\n",
    "            \"attention_mask\": {0: \"batch_size\"},\n",
    "            \"logits\": {0: \"batch_size\"},\n",
    "        },\n",
    "        opset_version=10,\n",
    "        export_params=True,\n",
    "    )"
   ]
  }
 ],
 "metadata": {
  "kernelspec": {
   "display_name": "Python 3",
   "language": "python",
   "name": "python3"
  },
  "language_info": {
   "codemirror_mode": {
    "name": "ipython",
    "version": 3
   },
   "file_extension": ".py",
   "mimetype": "text/x-python",
   "name": "python",
   "nbconvert_exporter": "python",
   "pygments_lexer": "ipython3",
   "version": "3.11.6"
  }
 },
 "nbformat": 4,
 "nbformat_minor": 2
}
